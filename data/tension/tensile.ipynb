{
 "cells": [
  {
   "cell_type": "markdown",
   "metadata": {},
   "source": [
    "# Evaluation of shear tests "
   ]
  },
  {
   "cell_type": "code",
   "execution_count": 1,
   "metadata": {},
   "outputs": [],
   "source": [
    "import matplotlib.pyplot as plt\n",
    "from matplotlib.tri import  TriAnalyzer,LinearTriInterpolator, Triangulation\n",
    "from matplotlib.collections import PolyCollection\n",
    "import numpy as np\n",
    "import ipywidgets as widgets\n",
    "\n",
    "# Direction labels\n",
    "DIRS = [\"x\", \"y\", \"z\"]\n",
    "# Path to the data\n",
    "PATH = \"Raw/0-01\"\n",
    "# Cross section area\n",
    "AREA = 1.89 * 24.04"
   ]
  },
  {
   "cell_type": "markdown",
   "metadata": {},
   "source": [
    "## Load data files"
   ]
  },
  {
   "cell_type": "markdown",
   "metadata": {},
   "source": [
    "The DIC results are stored in comma seperated files (*.csv) with this structure: \n",
    "```\n",
    "# Units: length:mm angle:deg time:s force:N \n",
    "# Stage: Stufe 1\n",
    "stage;index;relative_time;date\n",
    "\"Stufe 1\";1;0.0000;\"2024-02-28T13:17:27.881\"\n",
    "# Name : Analogeingang 0\n",
    "force;untransformed;transformed\n",
    "1.5354;0.0015;1.5354\n",
    "# Name : Flächenkomponente 3\n",
    "id;x;y;z\n",
    "0;1.7651;18.3950;-0.0050\n",
    "1;2.0013;18.2682;-0.0028\n",
    "2;2.1919;18.0722;-0.0025\n",
    "...\n",
    "```\n",
    "\n",
    "Therefore, we begin by reading the files to store forces, facet ids and all facet positions in lists. We pick only the first 800, as the later ones are beyond the elastic regime anyway and they contain a lot of lost facets."
   ]
  },
  {
   "cell_type": "code",
   "execution_count": 2,
   "metadata": {},
   "outputs": [],
   "source": [
    "# Number of steps to read\n",
    "N = 800\n",
    "\n",
    "# Iterate over files\n",
    "ids = []\n",
    "forces = []\n",
    "positions = []\n",
    "for n in range(1, N+1):\n",
    "    # File name\n",
    "    dic_file = f\"{PATH}/Flächenkomponente 1_{n:04d}.csv\"\n",
    "    # Read force from file (It is in the 7th line of the file)\n",
    "    with open(dic_file) as f:\n",
    "        for i, line in enumerate(f):\n",
    "            if i == 6:\n",
    "                force = float(line.split(\";\")[0])\n",
    "            if i == 10:\n",
    "                break\n",
    "    # Read remaining file to numpy array \n",
    "    data = np.loadtxt(dic_file, skiprows=9, delimiter=\";\")\n",
    "    # Append data to lists\n",
    "    forces.append(force)\n",
    "    ids.append(data[:,0].astype(int))\n",
    "    positions.append(data[:, 1:4])"
   ]
  },
  {
   "cell_type": "markdown",
   "metadata": {},
   "source": [
    "We filter the files for facets that are present in all files."
   ]
  },
  {
   "cell_type": "code",
   "execution_count": 3,
   "metadata": {},
   "outputs": [],
   "source": [
    "# Filter for the ids that are present in all files\n",
    "valid_ids = list(set.intersection(*map(set, ids)))\n",
    "\n",
    "# Filter the positions for the valid ids only\n",
    "for i in range(len(ids)):\n",
    "    mask = np.isin(ids[i], valid_ids)\n",
    "    positions[i] = positions[i][mask]"
   ]
  },
  {
   "cell_type": "markdown",
   "metadata": {},
   "source": [
    "## Visualize Stress over time"
   ]
  },
  {
   "cell_type": "code",
   "execution_count": 4,
   "metadata": {},
   "outputs": [
    {
     "data": {
      "image/png": "[encoded data removed]",
      "text/plain": [
       "<Figure size 640x480 with 1 Axes>"
      ]
     },
     "metadata": {},
     "output_type": "display_data"
    }
   ],
   "source": [
    "plt.plot(np.array(forces) / AREA)\n",
    "plt.xlabel(\"Step\")\n",
    "plt.ylabel(\"Stress [MPa]\")\n",
    "plt.grid()\n",
    "plt.xlim(left=0)\n",
    "plt.ylim(bottom=0)\n",
    "plt.show()"
   ]
  },
  {
   "cell_type": "markdown",
   "metadata": {},
   "source": [
    "## Visualize displacement data as interactive plot"
   ]
  },
  {
   "cell_type": "code",
   "execution_count": 5,
   "metadata": {},
   "outputs": [
    {
     "data": {
      "application/vnd.jupyter.widget-view+json": {
       "model_id": "057ae6cf7f984340b8d77ea7776582fb",
       "version_major": 2,
       "version_minor": 0
      },
      "text/plain": [
       "interactive(children=(IntSlider(value=799, description='n', max=799), Output()), _dom_classes=('widget-interac…"
      ]
     },
     "metadata": {},
     "output_type": "display_data"
    },
    {
     "data": {
      "text/plain": [
       "<function __main__.plot_nodal_displacements(n)>"
      ]
     },
     "execution_count": 5,
     "metadata": {},
     "output_type": "execute_result"
    }
   ],
   "source": [
    "def plot_nodal_displacements(n):\n",
    "    pos = positions[n]\n",
    "    disp = pos - positions[0]\n",
    "    fig, ax = plt.subplots(ncols=3, nrows=1, figsize=(10, 5))\n",
    "    for i in range(3):\n",
    "        contour = ax[i].scatter(pos[:, 0], pos[:, 1], c=disp[:, i], s=1)\n",
    "        ax[i].set_xlabel(\"x in mm\")\n",
    "        ax[i].set_ylabel(\"y in mm\")\n",
    "        ax[i].set_title(f\"Displacement in {DIRS[i]} in mm\")\n",
    "        ax[i].axis(\"equal\")\n",
    "        plt.colorbar(contour, ax=ax[i])\n",
    "    plt.tight_layout()\n",
    "    plt.show()\n",
    "\n",
    "\n",
    "widgets.interact(plot_nodal_displacements,n=widgets.IntSlider(value=N-1, min=0, max=N-1, step=1))"
   ]
  },
  {
   "cell_type": "markdown",
   "metadata": {},
   "source": [
    "# Triangulate the displacement data to compute gradients"
   ]
  },
  {
   "cell_type": "code",
   "execution_count": 6,
   "metadata": {},
   "outputs": [],
   "source": [
    "# Build a triangulation\n",
    "pos = positions[0]\n",
    "tri = Triangulation(pos[:,0], pos[:,1])\n",
    "\n",
    "# Mask low quality elements at the boundary\n",
    "mask = TriAnalyzer(tri).get_flat_tri_mask(.01)\n",
    "tri.set_mask(mask)\n",
    "\n",
    "# Compute nodes and centers of each triangle\n",
    "tria_nodes = pos[tri.triangles]\n",
    "center_x = np.mean(tri.x[tri.triangles], axis=1)\n",
    "center_y = np.mean(tri.y[tri.triangles], axis=1)\n"
   ]
  },
  {
   "cell_type": "code",
   "execution_count": 7,
   "metadata": {},
   "outputs": [
    {
     "data": {
      "application/vnd.jupyter.widget-view+json": {
       "model_id": "fb3411bb656c4cb699de8412d6916945",
       "version_major": 2,
       "version_minor": 0
      },
      "text/plain": [
       "interactive(children=(IntSlider(value=799, description='n', max=799, min=1), Output()), _dom_classes=('widget-…"
      ]
     },
     "metadata": {},
     "output_type": "display_data"
    },
    {
     "data": {
      "text/plain": [
       "<function __main__.plot_triangulated_displacement(n)>"
      ]
     },
     "execution_count": 7,
     "metadata": {},
     "output_type": "execute_result"
    }
   ],
   "source": [
    "def plot_triangulated_displacement(n):\n",
    "    pos = positions[n]\n",
    "    disp = pos - positions[0]\n",
    "    tria_nodes = pos[tri.triangles][:,:,0:2]\n",
    "\n",
    "    fig, ax = plt.subplots(ncols=2, nrows=1, figsize=(15, 5))\n",
    "    u_x = LinearTriInterpolator(tri, disp[:,0])\n",
    "    u_y = LinearTriInterpolator(tri, disp[:,1])\n",
    "    props ={\"u_x\": u_x(center_x, center_y),\n",
    "            \"u_y\": u_y(center_x, center_y), \n",
    "            }\n",
    "    for i, (lbl, u) in enumerate(props.items()):\n",
    "        pc = PolyCollection(tria_nodes, array=u)\n",
    "        contour = ax[i].add_collection(pc)\n",
    "        ax[i].set_title(lbl)\n",
    "        ax[i].triplot(tri, color=\"k\", lw=0.1)\n",
    "        ax[i].set_xlabel(\"x in mm\")\n",
    "        ax[i].set_ylabel(\"y in mm\")\n",
    "        ax[i].axis(\"equal\")\n",
    "        plt.colorbar(contour, ax=ax[i])\n",
    "    plt.tight_layout()\n",
    "    plt.show()\n",
    "\n",
    "widgets.interact(plot_triangulated_displacement,n=widgets.IntSlider(value=N-1, min=1, max=N-1, step=1))"
   ]
  },
  {
   "cell_type": "markdown",
   "metadata": {},
   "source": [
    "## Compute the gradients of u \n",
    "Using the triangulation, we want to calculate the gradients in each element. "
   ]
  },
  {
   "cell_type": "code",
   "execution_count": 8,
   "metadata": {},
   "outputs": [],
   "source": [
    "epsilon = [] \n",
    "\n",
    "for pos in positions:\n",
    "    # Compute displacements \n",
    "    disp = pos - positions[0]\n",
    "\n",
    "    # Interpolate displacements with LinearTriInterpolator \n",
    "    u_x = LinearTriInterpolator(tri, disp[:,0])\n",
    "    u_y = LinearTriInterpolator(tri, disp[:,1])\n",
    "\n",
    "    # Compute gradients -> LinearTriInterpolator.gradient(center_x, center_y)\n",
    "    (u_xx, u_xy) = u_x.gradient(center_x, center_y)\n",
    "    (u_yx, u_yy) = u_y.gradient(center_x, center_y)\n",
    "\n",
    "    # build nabla u\n",
    "    nabla_u = np.array([[u_xx, u_xy], [u_yx, u_yy]])\n",
    "\n",
    "    # Compute epsilon\n",
    "    epsilon.append(0.5*(nabla_u + np.swapaxes(nabla_u, 0, 1)))"
   ]
  },
  {
   "cell_type": "code",
   "execution_count": 9,
   "metadata": {},
   "outputs": [
    {
     "data": {
      "application/vnd.jupyter.widget-view+json": {
       "model_id": "55667950a37c44d3a21b98929e9ccb17",
       "version_major": 2,
       "version_minor": 0
      },
      "text/plain": [
       "interactive(children=(IntSlider(value=799, description='n', max=799, min=1), Output()), _dom_classes=('widget-…"
      ]
     },
     "metadata": {},
     "output_type": "display_data"
    },
    {
     "data": {
      "text/plain": [
       "<function __main__.plot_strain(n)>"
      ]
     },
     "execution_count": 9,
     "metadata": {},
     "output_type": "execute_result"
    }
   ],
   "source": [
    "def plot_strain(n):\n",
    "    eps = epsilon[n]\n",
    "    props ={\"ε_xx\": eps[0,0],\"ε_yy\": eps[1,1],\"ε_xy\": eps[0,1]}\n",
    "    fig, ax = plt.subplots(ncols=3, nrows=1, figsize=(15, 5))\n",
    "    for i, (lbl, e) in enumerate(props.items()):\n",
    "        pc = PolyCollection(tria_nodes[:,:,0:2], array=e, cmap=\"magma\")\n",
    "        contour = ax[i].add_collection(pc)\n",
    "        ax[i].set_title(lbl)\n",
    "        ax[i].triplot(tri, color=\"k\", lw=0.1)\n",
    "        ax[i].set_xlabel(\"x in mm\")\n",
    "        ax[i].set_ylabel(\"y in mm\")\n",
    "        ax[i].axis(\"equal\")\n",
    "        plt.colorbar(contour, ax=ax[i])\n",
    "    plt.tight_layout()\n",
    "    plt.show()\n",
    "\n",
    "widgets.interact(plot_strain,n=widgets.IntSlider(value=N-1, min=1, max=N-1, step=1))"
   ]
  },
  {
   "cell_type": "markdown",
   "metadata": {},
   "source": [
    "## Plot the stress-strain diagram with E"
   ]
  },
  {
   "cell_type": "code",
   "execution_count": 10,
   "metadata": {},
   "outputs": [
    {
     "data": {
      "image/png": "[encoded data removed]",
      "text/plain": [
       "<Figure size 640x480 with 1 Axes>"
      ]
     },
     "metadata": {},
     "output_type": "display_data"
    }
   ],
   "source": [
    "eps_xx_avg = np.array([np.nanmean(eps[0,0]) for eps in epsilon])\n",
    "eps_yy_avg = np.array([np.nanmean(eps[1,1]) for eps in epsilon])\n",
    "sigma_yy_avg = np.array(forces)/AREA\n",
    "\n",
    "A = np.vstack([eps_yy_avg, np.zeros(len(eps_yy_avg))]).T\n",
    "E, _ = np.linalg.lstsq(A, sigma_yy_avg, rcond=None)[0]\n",
    "eps_yy_val = np.linspace(0, np.max(eps_yy_avg), 100)\n",
    "\n",
    "plt.plot(100*eps_yy_avg, sigma_yy_avg, \"o\", markersize=1, label=\"Data\")\n",
    "plt.plot(100*eps_yy_val, E* eps_yy_val, \"-k\", label=f\"Linear fit E={E:.2f} MPa\")\n",
    "plt.legend()\n",
    "plt.grid(\"on\")\n",
    "plt.show()"
   ]
  }
 ],
 "metadata": {
  "kernelspec": {
   "display_name": "Python 3 (ipykernel)",
   "language": "python",
   "name": "python3"
  },
  "language_info": {
   "codemirror_mode": {
    "name": "ipython",
    "version": 3
   },
   "file_extension": ".py",
   "mimetype": "text/x-python",
   "name": "python",
   "nbconvert_exporter": "python",
   "pygments_lexer": "ipython3",
   "version": "3.9.15"
  },
  "vscode": {
   "interpreter": {
    "hash": "53e816d343ac3b69abbe00d0113a5825a790940e53acda2e016fe2e76fc78702"
   }
  }
 },
 "nbformat": 4,
 "nbformat_minor": 4
}
